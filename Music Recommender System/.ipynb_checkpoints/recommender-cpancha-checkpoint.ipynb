{
 "cells": [
  {
   "cell_type": "markdown",
   "metadata": {},
   "source": [
    "# Music Recommender System using Apache Spark and Python\n",
    "**Estimated time: 8hrs**\n",
    "\n",
    "## Description\n",
    "\n",
    "For this project, you are to create a recommender system that will recommend new musical artists to a user based on their listening history. Suggesting different songs or musical artists to a user is important to many music streaming services, such as Pandora and Spotify. In addition, this type of recommender system could also be used as a means of suggesting TV shows or movies to a user (e.g., Netflix). \n",
    "\n",
    "To create this system you will be using Spark and the collaborative filtering technique. The instructions for completing this project will be laid out entirely in this file. You will have to implement any missing code as well as answer any questions.\n",
    "\n",
    "**Submission Instructions:** \n",
    "* Add all of your updates to this IPython file and do not clear any of the output you get from running your code.\n",
    "* Upload this file onto moodle.\n",
    "\n",
    "## Datasets\n",
    "\n",
    "You will be using some publicly available song data from audioscrobbler, which can be found [here](http://www-etud.iro.umontreal.ca/~bergstrj/audioscrobbler_data.html). However, we modified the original data files so that the code will run in a reasonable time on a single machine. The reduced data files have been suffixed with `_small.txt` and contains only the information relevant to the top 50 most prolific users (highest artist play counts).\n",
    "\n",
    "The original data file `user_artist_data.txt` contained about 141,000 unique users, and 1.6 million unique artists. About 24.2 million users’ plays of artists are recorded, along with their count.\n",
    "\n",
    "Note that when plays are scribbled, the client application submits the name of the artist being played. This name could be misspelled or nonstandard, and this may only be detected later. For example, \"The Smiths\", \"Smiths, The\", and \"the smiths\" may appear as distinct artist IDs in the data set, even though they clearly refer to the same artist. So, the data set includes `artist_alias.txt`, which maps artist IDs that are known misspellings or variants to the canonical ID of that artist.\n",
    "\n",
    "The `artist_data.txt` file then provides a map from the canonical artist ID to the name of the artist."
   ]
  },
  {
   "cell_type": "code",
   "execution_count": null,
   "metadata": {
    "collapsed": true
   },
   "outputs": [],
   "source": [
    "#Discussions for this project were conducted with Kevin Desai (kdesai2), Akshat Amit Shah (ashah7)"
   ]
  },
  {
   "cell_type": "markdown",
   "metadata": {},
   "source": [
    "## Necessary Package Imports"
   ]
  },
  {
   "cell_type": "code",
   "execution_count": 1,
   "metadata": {
    "collapsed": false
   },
   "outputs": [],
   "source": [
    "from pyspark.mllib.recommendation import *\n",
    "import random\n",
    "from operator import *\n",
    "import re"
   ]
  },
  {
   "cell_type": "markdown",
   "metadata": {},
   "source": [
    "## Loading data\n",
    "\n",
    "Load the three datasets into RDDs and name them `artistData`, `artistAlias`, and `userArtistData`. View the README, or the files themselves, to see how this data is formated. Some of the files have tab delimeters while some have space delimiters. Make sure that your `userArtistData` RDD contains only the canonical artist IDs."
   ]
  },
  {
   "cell_type": "code",
   "execution_count": 2,
   "metadata": {
    "collapsed": false
   },
   "outputs": [],
   "source": [
    "artistData = sc.textFile('artist_data_small.txt')\n",
    "artistAlias = sc.textFile('artist_alias_small.txt')\n",
    "userArtistData = sc.textFile('user_artist_data_small.txt')"
   ]
  },
  {
   "cell_type": "markdown",
   "metadata": {},
   "source": [
    "## Data Exploration\n",
    "\n",
    "In the blank below, write some code that with find the users' total play counts. Find the three users with the highest number of total play counts (sum of all counters) and print the user ID, the total play count, and the mean play count (average number of times a user played an artist). Your output should look as follows:\n",
    "```\n",
    "User 1059637 has a total play count of 674412 and a mean play count of 1878.\n",
    "User 2064012 has a total play count of 548427 and a mean play count of 9455.\n",
    "User 2069337 has a total play count of 393515 and a mean play count of 1519.\n",
    "```\n"
   ]
  },
  {
   "cell_type": "code",
   "execution_count": 3,
   "metadata": {
    "collapsed": false
   },
   "outputs": [
    {
     "name": "stdout",
     "output_type": "stream",
     "text": [
      "User 1059637 has a total play count of 674412 and a mean play count of 1878.\n",
      "User 2064012 has a total play count of 548427 and a mean play count of 9455.\n",
      "User 2069337 has a total play count of 393515 and a mean play count of 1519.\n"
     ]
    }
   ],
   "source": [
    "def parserArtistData(line):\n",
    "    line = line.split()\n",
    "    artist_id = int(line[0])\n",
    "    artist_name = \"\"\n",
    "    for i in line[1:]:\n",
    "        artist_name += i + \" \"\n",
    "    return (artist_id, artist_name)\n",
    "\n",
    "def parserArtistAlias(line):\n",
    "    line = line.split()\n",
    "    bad_id = int(line[0])\n",
    "    good_id = int(line[1])\n",
    "    return (bad_id, good_id)\n",
    "\n",
    "def parserUserArtistData(line):\n",
    "    line = line.split()\n",
    "    user_id = int(line[0])\n",
    "    artist_id = int(line[1])\n",
    "    playcount = int(line[2])\n",
    "    return (user_id, artist_id, playcount)\n",
    "\n",
    "artistData = artistData.map(parserArtistData)\n",
    "artistAlias = artistAlias.map(parserArtistAlias)\n",
    "userArtistData = userArtistData.map(parserUserArtistData)\n",
    "\n",
    "tempUserArtistData = userArtistData.map(lambda p: (p[0], (p[1], p[2]))).groupByKey().mapValues(lambda d: dict(d))\\\n",
    ".map(lambda a: (sum(a[1].values()), (a[0], len(a[1].values()))))\\\n",
    ".sortByKey(False)\\\n",
    ".map(lambda b: (\"User \"+ str(b[1][0]) +\" has a total play count of \"+ str(b[0]) +\" and a mean play count of \"+ str(int(b[0]/b[1][1])) +\".\")).take(3)\n",
    "\n",
    "for i in tempUserArtistData:\n",
    "    print i\n",
    "\n",
    "#userArtistData.count()"
   ]
  },
  {
   "cell_type": "markdown",
   "metadata": {},
   "source": [
    "####  Splitting Data for Testing\n",
    "\n",
    "Use the [randomSplit](http://spark.apache.org/docs/latest/api/python/pyspark.html#pyspark.RDD.randomSplit) function to divide the data (`userArtistData`) into:\n",
    "* A training set, `trainData`, that will be used to train the model. This set should constitute 40% of the data.\n",
    "* A validation set, `validationData`, used to perform parameter tuning. This set should constitute 40% of the data.\n",
    "* A test set, `testData`, used for a final evaluation of the model. This set should constitute 20% of the data.\n",
    "\n",
    "Use a random seed value of 13. Since these datasets will be repeatedly used you will probably want to persist them in memory using the [cache](http://spark.apache.org/docs/latest/api/python/pyspark.html#pyspark.RDD.cache) function.\n",
    "\n",
    "In addition, print out the first 3 elements of each set as well as their sizes; if you created these sets correctly, your output should look as follows:\n",
    "```\n",
    "[(1059637, 1000049, 1), (1059637, 1000056, 1), (1059637, 1000113, 5)]\n",
    "[(1059637, 1000010, 238), (1059637, 1000062, 11), (1059637, 1000112, 423)]\n",
    "[(1059637, 1000094, 1), (1059637, 1000130, 19129), (1059637, 1000139, 4)]\n",
    "19817\n",
    "19633\n",
    "10031\n",
    "```"
   ]
  },
  {
   "cell_type": "code",
   "execution_count": 4,
   "metadata": {
    "collapsed": false,
    "scrolled": true
   },
   "outputs": [
    {
     "name": "stdout",
     "output_type": "stream",
     "text": [
      "[(1059637, 1000049, 1), (1059637, 1000056, 1), (1059637, 1000113, 5)]\n",
      "[(1059637, 1000010, 238), (1059637, 1000062, 11), (1059637, 1000112, 423)]\n",
      "[(1059637, 1000094, 1), (1059637, 1000130, 19129), (1059637, 1000139, 4)]\n",
      "19817\n",
      "19633\n",
      "10031\n"
     ]
    }
   ],
   "source": [
    "artistNames = {}\n",
    "for i in artistData.collect():\n",
    "    artistNames[i[0]] = i[1]\n",
    "\n",
    "#print tempArtistAlias    \n",
    "def cleaner(line):\n",
    "    temp = 0\n",
    "    if line[1] in tempArtistAlias.keys():\n",
    "        temp = tempArtistAlias[line[1]]\n",
    "        return (line[0], temp, line[2])\n",
    "    else:\n",
    "        return line\n",
    "\n",
    "trainData, validationData, testData = userArtistData.randomSplit([0.4*userArtistData.count(), 0.4*userArtistData.count(), 0.2*userArtistData.count()], 13)\n",
    "trainData.cache()\n",
    "validationData.cache()\n",
    "testData.cache()\n",
    "print trainData.take(3)\n",
    "print validationData.take(3)\n",
    "print testData.take(3)\n",
    "print trainData.count()\n",
    "print validationData.count()\n",
    "print testData.count()\n",
    "\n",
    "#userArtistData = userArtistData.map(cleaner).map(lambda a: ((a[0], a[1]), a[2])).reduceByKey(lambda a,b: a + b).map(lambda x: (x[0][0], x[0][1], x[1]))\n",
    "#userArtistData.count()"
   ]
  },
  {
   "cell_type": "markdown",
   "metadata": {},
   "source": [
    "## The Recommender Model\n",
    "\n",
    "For this project, we will train the model with implicit feedback. You can read more information about this from the collaborative filtering page: [http://spark.apache.org/docs/latest/mllib-collaborative-filtering.html](http://spark.apache.org/docs/latest/mllib-collaborative-filtering.html). The [function you will be using](http://spark.apache.org/docs/latest/api/python/pyspark.mllib.html#pyspark.mllib.recommendation.ALS.trainImplicit) has a few tunable parameters that will affect how the model is built. Therefore, to get the best model, we will do a small parameter sweep and choose the model that performs the best on the validation set\n",
    "\n",
    "Therefore, we must first devise a way to evaluate models. Once we have a method for evaluation, we can run a parameter sweep, evaluate each combination of parameters on the validation data, and choose the optimal set of parameters. The parameters then can be used to make predictions on the test data.\n",
    "\n",
    "### Model Evaluation\n",
    "\n",
    "Although there may be several ways to evaluate a model, we will use a simple method here. Suppose we have a model and some dataset of *true* artist plays for a set of users. This model can be used to predict the top X artist recommendations for a user and these recommendations can be compared the artists that the user actually listened to (here, X will be the number of artists in the dataset of *true* artist plays). Then, the fraction of overlap between the top X predictions of the model and the X artists that the user actually listened to can be calculated. This process can be repeated for all users and an average value returned.\n",
    "\n",
    "For example, suppose a model predicted [1,2,4,8] as the top X=4 artists for a user. Suppose, that user actually listened to the artists [1,3,7,8]. Then, for this user, the model would have a score of 2/4=0.5. To get the overall score, this would be performed for all users, with the average returned.\n",
    "\n",
    "**NOTE: when using the model to predict the top-X artists for a user, do not include the artists listed with that user in the training data.**\n",
    "\n",
    "Name your function `modelEval` and have it take a model (the output of ALS.trainImplicit) and a dataset as input. For parameter tuning, the dataset parameter should be set to the validation data (`validationData`). After parameter tuning, the model can be evaluated on the test data (`testData`)."
   ]
  },
  {
   "cell_type": "code",
   "execution_count": 5,
   "metadata": {
    "collapsed": false
   },
   "outputs": [],
   "source": [
    "#morphedTrainData = trainData.map(lambda a: (a[1], a[0]))\n",
    "#trainingData = {}\n",
    "#for i in morphedTrainData.collect():\n",
    "#    trainingData[i[0]] = i[1]\n",
    "\n",
    "artistsAllOver = sc.parallelize(set(userArtistData.map(lambda b:b[1]).collect()))\n",
    "#print artistsAllOver.collect()\n",
    "trainDataAgg = trainData.map(lambda a: ((a[0], a[1])))\n",
    "#print trainDataAgg.collect()\n",
    "\n",
    "def modelEval(model, data):\n",
    "    score = 0\n",
    "    artistsAllOver = sc.parallelize(set(userArtistData.map(lambda b: b[1]).collect()))  # find all users\n",
    "    usersIncomingDataset = data.map(lambda b: (b[0], b[1])).groupByKey().map(lambda b: b[0])\n",
    "    print usersIncomingDataset.collect()\n",
    "    userArtistPairs = usersIncomingDataset.cartesian(artistsAllOver)\n",
    "    trainDataAgg = trainData.map(lambda b: (b[0], b[1]))\n",
    "    predictionPairs = userArtistPairs.subtract(trainDataAgg)\n",
    "    result = model.predictAll(predictionPairs)\n",
    "    mappedResult = result.sortBy(lambda k: (k.user, -k.rating)).map(lambda b: (b[0], b[1]))\n",
    "    mappedResult = mappedResult.groupByKey().map(lambda b: (b[0], list(b[1])))\n",
    "    incomingDataUserArtistList = data.map(lambda b: (b[0], b[1])).groupByKey().map(lambda b: (b[0], list(b[1])))\n",
    "    userArtistsCounts = data.map(lambda b: (b[0], b[1])).groupByKey().map(lambda b: (b[0], len(b[1])))\n",
    "    tempSet = userArtistsCounts.join(mappedResult)\n",
    "    topAllTimeArtists = tempSet.map(lambda b: (b[0], b[1][1][0:b[1][0]]))\n",
    "    comparisonStructure = topAllTimeArtists.join(incomingDataUserArtistList)\n",
    "    comparisonStructure = comparisonStructure.map(lambda b: (b[0], set.intersection(set(b[1][0]), set(b[1][1]))))\n",
    "    tempSet2 = comparisonStructure.map(lambda b: (b[0], len(b[1])))\n",
    "    finalComparisonStructure = userArtistsCounts.join(tempSet2).map(lambda b: (b[0], b[1][1] / float(b[1][0])))\n",
    "    for i in finalComparisonStructure.collect():\n",
    "        score += i[1]\n",
    "    score = score / float(finalComparisonStructure.count())\n",
    "    return score\n",
    "\n",
    "#morphedTrainData.collect()\n",
    "#userArtistDataAgg.collect()"
   ]
  },
  {
   "cell_type": "markdown",
   "metadata": {},
   "source": [
    "### Model Construction\n",
    "\n",
    "Now we can build the best model possibly using the validation set of data and the `modelEval` function. Although, there are a few parameters we could optimize, for the sake of time, we will just try a few different values for the [rank parameter](http://spark.apache.org/docs/latest/mllib-collaborative-filtering.html#collaborative-filtering) (leave everything else at its default value, **except make `seed`=345**). Loop through the values [2, 10, 20] and figure out which one produces the highest scored based on your model evaluation function.\n",
    "\n",
    "Note: this procedure may take several minutes to run.\n",
    "\n",
    "For each rank value, print out the output of the `modelEval` function for that model. Your output should look as follows:\n",
    "```\n",
    "The model score for rank 2 is 0.090431\n",
    "The model score for rank 10 is 0.095294\n",
    "The model score for rank 20 is 0.090248\n",
    "```"
   ]
  },
  {
   "cell_type": "code",
   "execution_count": 6,
   "metadata": {
    "collapsed": false,
    "scrolled": true
   },
   "outputs": [
    {
     "name": "stdout",
     "output_type": "stream",
     "text": [
      "[1047812, 1059334, 1017610, 2064012, 1052054, 2010008, 2000668, 2288164, 2023686, 1076906, 1072684, 2023742, 1058890, 1007308, 2005710, 1048402, 1070932, 2014936, 1026084, 1063644, 1001440, 1021940, 2069889, 2102019, 1073421, 1052461, 1009943, 1059765, 1046559, 2020513, 2062243, 2023977, 1059245, 1042223, 1070641, 1059637, 1029563, 1021501, 2030069, 1000647, 1055449, 1035511, 2007381, 2069337, 1031009, 2070757, 2010581, 2017397, 1024631, 1041919]\n",
      "The model score for rank 2 is 0.0904308588871\n",
      "[1047812, 1059334, 1017610, 2064012, 1052054, 2010008, 2000668, 2288164, 2023686, 1076906, 1072684, 2023742, 1058890, 1007308, 2005710, 1048402, 1070932, 2014936, 1026084, 1063644, 1001440, 1021940, 2069889, 2102019, 1073421, 1052461, 1009943, 1059765, 1046559, 2020513, 2062243, 2023977, 1059245, 1042223, 1070641, 1059637, 1029563, 1021501, 2030069, 1000647, 1055449, 1035511, 2007381, 2069337, 1031009, 2070757, 2010581, 2017397, 1024631, 1041919]\n",
      "The model score for rank 10 is 0.0952938950541\n",
      "[1047812, 1059334, 1017610, 2064012, 1052054, 2010008, 2000668, 2288164, 2023686, 1076906, 1072684, 2023742, 1058890, 1007308, 2005710, 1048402, 1070932, 2014936, 1026084, 1063644, 1001440, 1021940, 2069889, 2102019, 1073421, 1052461, 1009943, 1059765, 1046559, 2020513, 2062243, 2023977, 1059245, 1042223, 1070641, 1059637, 1029563, 1021501, 2030069, 1000647, 1055449, 1035511, 2007381, 2069337, 1031009, 2070757, 2010581, 2017397, 1024631, 1041919]\n",
      "The model score for rank 20 is 0.0902586630954\n"
     ]
    }
   ],
   "source": [
    "for i in [2, 10, 20]:\n",
    "    testModel = ALS.trainImplicit(trainData, rank=i, seed=345)\n",
    "    score = modelEval(testModel, validationData)\n",
    "    print \"The model score for rank \" + str(i) + \" is \" + str(score)"
   ]
  },
  {
   "cell_type": "markdown",
   "metadata": {},
   "source": [
    "Now, using the bestModel, we will check the results over the test data. Your result should be ~`0.0507`."
   ]
  },
  {
   "cell_type": "code",
   "execution_count": 143,
   "metadata": {
    "collapsed": false
   },
   "outputs": [
    {
     "name": "stdout",
     "output_type": "stream",
     "text": [
      "0.0507314301519\n"
     ]
    }
   ],
   "source": [
    "bestModel = ALS.trainImplicit(trainData, rank=10, seed=345)\n",
    "score = modelEval(bestModel, testData)\n",
    "print score"
   ]
  },
  {
   "cell_type": "markdown",
   "metadata": {},
   "source": [
    "## Trying Some Artist Recommendations\n",
    "Using the best model above, predict the top 5 artists for user `1059637` using the [recommendProducts](http://spark.apache.org/docs/1.5.2/api/python/pyspark.mllib.html#pyspark.mllib.recommendation.MatrixFactorizationModel.recommendProducts) function. Map the results (integer IDs) into the real artist name using `artistAlias`. Print the results. The output should look as follows:\n",
    "```\n",
    "Artist 0: Brand New\n",
    "Artist 1: Taking Back Sunday\n",
    "Artist 2: Evanescence\n",
    "Artist 3: Elliott Smith\n",
    "Artist 4: blink-182\n",
    "```"
   ]
  },
  {
   "cell_type": "code",
   "execution_count": 149,
   "metadata": {
    "collapsed": false,
    "scrolled": true
   },
   "outputs": [
    {
     "name": "stdout",
     "output_type": "stream",
     "text": [
      "Artist 0: Brand New \n",
      "Artist 1: Taking Back Sunday \n",
      "Artist 2: Evanescence \n",
      "Artist 3: Elliott Smith \n",
      "Artist 4: blink-182 \n"
     ]
    }
   ],
   "source": [
    "tempArtistAlias = {}\n",
    "for i in artistAlias.collect():\n",
    "    tempArtistAlias[i[0]] = i[1]\n",
    "\n",
    "#print tempArtistAlias\n",
    "\n",
    "topArtists = bestModel.recommendProducts(1059637, 5)\n",
    "topArtists = sc.parallelize(topArtists).map(lambda x: x.product)\n",
    "for i in range(0, topArtists.count()):\n",
    "    if(topArtists.take(i+1)[i] in tempArtistAlias):\n",
    "        goodID = tempArtistAlias[topArtists.take(i+1)[i]]\n",
    "    else:\n",
    "        goodID = topArtists.take(i+1)[i]\n",
    "    print \"Artist \" + str(i) + \":\" + \" \" + artistNames[goodID]"
   ]
  }
 ],
 "metadata": {
  "kernelspec": {
   "display_name": "Python 2",
   "language": "python",
   "name": "python2"
  },
  "language_info": {
   "codemirror_mode": {
    "name": "ipython",
    "version": 2
   },
   "file_extension": ".py",
   "mimetype": "text/x-python",
   "name": "python",
   "nbconvert_exporter": "python",
   "pygments_lexer": "ipython2",
   "version": "2.7.11"
  }
 },
 "nbformat": 4,
 "nbformat_minor": 0
}
